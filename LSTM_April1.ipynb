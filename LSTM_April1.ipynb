{
  "nbformat": 4,
  "nbformat_minor": 0,
  "metadata": {
    "kernelspec": {
      "display_name": "Python 3",
      "language": "python",
      "name": "python3"
    },
    "language_info": {
      "codemirror_mode": {
        "name": "ipython",
        "version": 3
      },
      "file_extension": ".py",
      "mimetype": "text/x-python",
      "name": "python",
      "nbconvert_exporter": "python",
      "pygments_lexer": "ipython3",
      "version": "3.8.5"
    },
    "colab": {
      "name": "DataCollection_22March.ipynb",
      "provenance": [],
      "collapsed_sections": []
    }
  },
  "cells": [
    {
      "cell_type": "code",
      "metadata": {
        "id": "eT2BO_QZRh18"
      },
      "source": [
        "import numpy as np\n",
        "import pandas as pd\n",
        "import seaborn as sb\n",
        "import matplotlib.pyplot as plt\n",
        "import yfinance as yf"
      ],
      "execution_count": null,
      "outputs": []
    },
    {
      "cell_type": "code",
      "metadata": {
        "id": "eEEY3xheRh1_"
      },
      "source": [
        "from alpha_vantage.cryptocurrencies import CryptoCurrencies"
      ],
      "execution_count": null,
      "outputs": []
    },
    {
      "cell_type": "code",
      "metadata": {
        "id": "AQ6SP87ERh2A"
      },
      "source": [
        "# This is used to download BTC data from AlphaVantage\n",
        "\n",
        "crypt = CryptoCurrencies('WQ8W67GO6PP73AD4', output_format = 'pandas')"
      ],
      "execution_count": null,
      "outputs": []
    },
    {
      "cell_type": "code",
      "metadata": {
        "id": "At-MESV4Rh2A"
      },
      "source": [
        "btc_av = crypt.get_digital_currency_daily('BTC', market='USD')[0]"
      ],
      "execution_count": null,
      "outputs": []
    },
    {
      "cell_type": "code",
      "metadata": {
        "id": "JHhCj7z-Rh2A"
      },
      "source": [
        "btc_av = pd.DataFrame(btc_av)"
      ],
      "execution_count": null,
      "outputs": []
    },
    {
      "cell_type": "code",
      "metadata": {
        "colab": {
          "base_uri": "https://localhost:8080/",
          "height": 637
        },
        "id": "Bh4z0qKfRh2B",
        "outputId": "2adadeb4-9191-4a22-dd65-50b605ba63ab"
      },
      "source": [
        "btc_av"
      ],
      "execution_count": null,
      "outputs": [
        {
          "output_type": "execute_result",
          "data": {
            "text/html": [
              "<div>\n",
              "<style scoped>\n",
              "    .dataframe tbody tr th:only-of-type {\n",
              "        vertical-align: middle;\n",
              "    }\n",
              "\n",
              "    .dataframe tbody tr th {\n",
              "        vertical-align: top;\n",
              "    }\n",
              "\n",
              "    .dataframe thead th {\n",
              "        text-align: right;\n",
              "    }\n",
              "</style>\n",
              "<table border=\"1\" class=\"dataframe\">\n",
              "  <thead>\n",
              "    <tr style=\"text-align: right;\">\n",
              "      <th></th>\n",
              "      <th>1a. open (USD)</th>\n",
              "      <th>1b. open (USD)</th>\n",
              "      <th>2a. high (USD)</th>\n",
              "      <th>2b. high (USD)</th>\n",
              "      <th>3a. low (USD)</th>\n",
              "      <th>3b. low (USD)</th>\n",
              "      <th>4a. close (USD)</th>\n",
              "      <th>4b. close (USD)</th>\n",
              "      <th>5. volume</th>\n",
              "      <th>6. market cap (USD)</th>\n",
              "    </tr>\n",
              "    <tr>\n",
              "      <th>date</th>\n",
              "      <th></th>\n",
              "      <th></th>\n",
              "      <th></th>\n",
              "      <th></th>\n",
              "      <th></th>\n",
              "      <th></th>\n",
              "      <th></th>\n",
              "      <th></th>\n",
              "      <th></th>\n",
              "      <th></th>\n",
              "    </tr>\n",
              "  </thead>\n",
              "  <tbody>\n",
              "    <tr>\n",
              "      <th>2021-03-31</th>\n",
              "      <td>58746.57</td>\n",
              "      <td>58746.57</td>\n",
              "      <td>58970.44</td>\n",
              "      <td>58970.44</td>\n",
              "      <td>58631.65</td>\n",
              "      <td>58631.65</td>\n",
              "      <td>58913.16</td>\n",
              "      <td>58913.16</td>\n",
              "      <td>1011.482708</td>\n",
              "      <td>1011.482708</td>\n",
              "    </tr>\n",
              "    <tr>\n",
              "      <th>2021-03-30</th>\n",
              "      <td>57635.46</td>\n",
              "      <td>57635.46</td>\n",
              "      <td>59368.00</td>\n",
              "      <td>59368.00</td>\n",
              "      <td>57071.35</td>\n",
              "      <td>57071.35</td>\n",
              "      <td>58746.57</td>\n",
              "      <td>58746.57</td>\n",
              "      <td>55122.443122</td>\n",
              "      <td>55122.443122</td>\n",
              "    </tr>\n",
              "    <tr>\n",
              "      <th>2021-03-29</th>\n",
              "      <td>55777.65</td>\n",
              "      <td>55777.65</td>\n",
              "      <td>58405.82</td>\n",
              "      <td>58405.82</td>\n",
              "      <td>54800.01</td>\n",
              "      <td>54800.01</td>\n",
              "      <td>57635.47</td>\n",
              "      <td>57635.47</td>\n",
              "      <td>67857.937398</td>\n",
              "      <td>67857.937398</td>\n",
              "    </tr>\n",
              "    <tr>\n",
              "      <th>2021-03-28</th>\n",
              "      <td>55817.14</td>\n",
              "      <td>55817.14</td>\n",
              "      <td>56559.75</td>\n",
              "      <td>56559.75</td>\n",
              "      <td>54691.84</td>\n",
              "      <td>54691.84</td>\n",
              "      <td>55777.63</td>\n",
              "      <td>55777.63</td>\n",
              "      <td>39050.387511</td>\n",
              "      <td>39050.387511</td>\n",
              "    </tr>\n",
              "    <tr>\n",
              "      <th>2021-03-27</th>\n",
              "      <td>55025.59</td>\n",
              "      <td>55025.59</td>\n",
              "      <td>56700.36</td>\n",
              "      <td>56700.36</td>\n",
              "      <td>53950.00</td>\n",
              "      <td>53950.00</td>\n",
              "      <td>55817.14</td>\n",
              "      <td>55817.14</td>\n",
              "      <td>50105.475055</td>\n",
              "      <td>50105.475055</td>\n",
              "    </tr>\n",
              "    <tr>\n",
              "      <th>...</th>\n",
              "      <td>...</td>\n",
              "      <td>...</td>\n",
              "      <td>...</td>\n",
              "      <td>...</td>\n",
              "      <td>...</td>\n",
              "      <td>...</td>\n",
              "      <td>...</td>\n",
              "      <td>...</td>\n",
              "      <td>...</td>\n",
              "      <td>...</td>\n",
              "    </tr>\n",
              "    <tr>\n",
              "      <th>2018-07-10</th>\n",
              "      <td>6662.78</td>\n",
              "      <td>6662.78</td>\n",
              "      <td>6681.00</td>\n",
              "      <td>6681.00</td>\n",
              "      <td>6263.00</td>\n",
              "      <td>6263.00</td>\n",
              "      <td>6296.91</td>\n",
              "      <td>6296.91</td>\n",
              "      <td>38560.672702</td>\n",
              "      <td>38560.672702</td>\n",
              "    </tr>\n",
              "    <tr>\n",
              "      <th>2018-07-09</th>\n",
              "      <td>6712.10</td>\n",
              "      <td>6712.10</td>\n",
              "      <td>6802.06</td>\n",
              "      <td>6802.06</td>\n",
              "      <td>6612.24</td>\n",
              "      <td>6612.24</td>\n",
              "      <td>6662.12</td>\n",
              "      <td>6662.12</td>\n",
              "      <td>26732.406550</td>\n",
              "      <td>26732.406550</td>\n",
              "    </tr>\n",
              "    <tr>\n",
              "      <th>2018-07-08</th>\n",
              "      <td>6753.48</td>\n",
              "      <td>6753.48</td>\n",
              "      <td>6780.00</td>\n",
              "      <td>6780.00</td>\n",
              "      <td>6667.44</td>\n",
              "      <td>6667.44</td>\n",
              "      <td>6712.10</td>\n",
              "      <td>6712.10</td>\n",
              "      <td>24622.947794</td>\n",
              "      <td>24622.947794</td>\n",
              "    </tr>\n",
              "    <tr>\n",
              "      <th>2018-07-07</th>\n",
              "      <td>6609.79</td>\n",
              "      <td>6609.79</td>\n",
              "      <td>6818.16</td>\n",
              "      <td>6818.16</td>\n",
              "      <td>6508.88</td>\n",
              "      <td>6508.88</td>\n",
              "      <td>6756.98</td>\n",
              "      <td>6756.98</td>\n",
              "      <td>23973.876886</td>\n",
              "      <td>23973.876886</td>\n",
              "    </tr>\n",
              "    <tr>\n",
              "      <th>2018-07-06</th>\n",
              "      <td>6529.20</td>\n",
              "      <td>6529.20</td>\n",
              "      <td>6648.54</td>\n",
              "      <td>6648.54</td>\n",
              "      <td>6425.00</td>\n",
              "      <td>6425.00</td>\n",
              "      <td>6609.78</td>\n",
              "      <td>6609.78</td>\n",
              "      <td>29397.094748</td>\n",
              "      <td>29397.094748</td>\n",
              "    </tr>\n",
              "  </tbody>\n",
              "</table>\n",
              "<p>1000 rows × 10 columns</p>\n",
              "</div>"
            ],
            "text/plain": [
              "            1a. open (USD)  1b. open (USD)  ...     5. volume  6. market cap (USD)\n",
              "date                                        ...                                   \n",
              "2021-03-31        58746.57        58746.57  ...   1011.482708          1011.482708\n",
              "2021-03-30        57635.46        57635.46  ...  55122.443122         55122.443122\n",
              "2021-03-29        55777.65        55777.65  ...  67857.937398         67857.937398\n",
              "2021-03-28        55817.14        55817.14  ...  39050.387511         39050.387511\n",
              "2021-03-27        55025.59        55025.59  ...  50105.475055         50105.475055\n",
              "...                    ...             ...  ...           ...                  ...\n",
              "2018-07-10         6662.78         6662.78  ...  38560.672702         38560.672702\n",
              "2018-07-09         6712.10         6712.10  ...  26732.406550         26732.406550\n",
              "2018-07-08         6753.48         6753.48  ...  24622.947794         24622.947794\n",
              "2018-07-07         6609.79         6609.79  ...  23973.876886         23973.876886\n",
              "2018-07-06         6529.20         6529.20  ...  29397.094748         29397.094748\n",
              "\n",
              "[1000 rows x 10 columns]"
            ]
          },
          "metadata": {
            "tags": []
          },
          "execution_count": 10
        }
      ]
    },
    {
      "cell_type": "markdown",
      "metadata": {
        "id": "fEPjwGWyRh2C"
      },
      "source": [
        "Initial exploration suggests that the API only provides data for a time period of 3 years. To supplement this, additional data has to be obtained. Apart from that, there seems to be columns of repeated values. "
      ]
    },
    {
      "cell_type": "code",
      "metadata": {
        "id": "H020JLahRh2C"
      },
      "source": [
        "btc_av = btc_av[['1a. open (USD)', '2a. high (USD)', '3a. low (USD)', '4a. close (USD)', '5. volume']]"
      ],
      "execution_count": null,
      "outputs": []
    },
    {
      "cell_type": "code",
      "metadata": {
        "colab": {
          "base_uri": "https://localhost:8080/",
          "height": 450
        },
        "id": "bMfy6PvXRh2D",
        "outputId": "115162cf-fcad-47ad-a122-0b9d53d7e769"
      },
      "source": [
        "btc_av"
      ],
      "execution_count": null,
      "outputs": [
        {
          "output_type": "execute_result",
          "data": {
            "text/html": [
              "<div>\n",
              "<style scoped>\n",
              "    .dataframe tbody tr th:only-of-type {\n",
              "        vertical-align: middle;\n",
              "    }\n",
              "\n",
              "    .dataframe tbody tr th {\n",
              "        vertical-align: top;\n",
              "    }\n",
              "\n",
              "    .dataframe thead th {\n",
              "        text-align: right;\n",
              "    }\n",
              "</style>\n",
              "<table border=\"1\" class=\"dataframe\">\n",
              "  <thead>\n",
              "    <tr style=\"text-align: right;\">\n",
              "      <th></th>\n",
              "      <th>1a. open (USD)</th>\n",
              "      <th>2a. high (USD)</th>\n",
              "      <th>3a. low (USD)</th>\n",
              "      <th>4a. close (USD)</th>\n",
              "      <th>5. volume</th>\n",
              "    </tr>\n",
              "    <tr>\n",
              "      <th>date</th>\n",
              "      <th></th>\n",
              "      <th></th>\n",
              "      <th></th>\n",
              "      <th></th>\n",
              "      <th></th>\n",
              "    </tr>\n",
              "  </thead>\n",
              "  <tbody>\n",
              "    <tr>\n",
              "      <th>2021-03-31</th>\n",
              "      <td>58746.57</td>\n",
              "      <td>58970.44</td>\n",
              "      <td>58631.65</td>\n",
              "      <td>58913.16</td>\n",
              "      <td>1011.482708</td>\n",
              "    </tr>\n",
              "    <tr>\n",
              "      <th>2021-03-30</th>\n",
              "      <td>57635.46</td>\n",
              "      <td>59368.00</td>\n",
              "      <td>57071.35</td>\n",
              "      <td>58746.57</td>\n",
              "      <td>55122.443122</td>\n",
              "    </tr>\n",
              "    <tr>\n",
              "      <th>2021-03-29</th>\n",
              "      <td>55777.65</td>\n",
              "      <td>58405.82</td>\n",
              "      <td>54800.01</td>\n",
              "      <td>57635.47</td>\n",
              "      <td>67857.937398</td>\n",
              "    </tr>\n",
              "    <tr>\n",
              "      <th>2021-03-28</th>\n",
              "      <td>55817.14</td>\n",
              "      <td>56559.75</td>\n",
              "      <td>54691.84</td>\n",
              "      <td>55777.63</td>\n",
              "      <td>39050.387511</td>\n",
              "    </tr>\n",
              "    <tr>\n",
              "      <th>2021-03-27</th>\n",
              "      <td>55025.59</td>\n",
              "      <td>56700.36</td>\n",
              "      <td>53950.00</td>\n",
              "      <td>55817.14</td>\n",
              "      <td>50105.475055</td>\n",
              "    </tr>\n",
              "    <tr>\n",
              "      <th>...</th>\n",
              "      <td>...</td>\n",
              "      <td>...</td>\n",
              "      <td>...</td>\n",
              "      <td>...</td>\n",
              "      <td>...</td>\n",
              "    </tr>\n",
              "    <tr>\n",
              "      <th>2018-07-10</th>\n",
              "      <td>6662.78</td>\n",
              "      <td>6681.00</td>\n",
              "      <td>6263.00</td>\n",
              "      <td>6296.91</td>\n",
              "      <td>38560.672702</td>\n",
              "    </tr>\n",
              "    <tr>\n",
              "      <th>2018-07-09</th>\n",
              "      <td>6712.10</td>\n",
              "      <td>6802.06</td>\n",
              "      <td>6612.24</td>\n",
              "      <td>6662.12</td>\n",
              "      <td>26732.406550</td>\n",
              "    </tr>\n",
              "    <tr>\n",
              "      <th>2018-07-08</th>\n",
              "      <td>6753.48</td>\n",
              "      <td>6780.00</td>\n",
              "      <td>6667.44</td>\n",
              "      <td>6712.10</td>\n",
              "      <td>24622.947794</td>\n",
              "    </tr>\n",
              "    <tr>\n",
              "      <th>2018-07-07</th>\n",
              "      <td>6609.79</td>\n",
              "      <td>6818.16</td>\n",
              "      <td>6508.88</td>\n",
              "      <td>6756.98</td>\n",
              "      <td>23973.876886</td>\n",
              "    </tr>\n",
              "    <tr>\n",
              "      <th>2018-07-06</th>\n",
              "      <td>6529.20</td>\n",
              "      <td>6648.54</td>\n",
              "      <td>6425.00</td>\n",
              "      <td>6609.78</td>\n",
              "      <td>29397.094748</td>\n",
              "    </tr>\n",
              "  </tbody>\n",
              "</table>\n",
              "<p>1000 rows × 5 columns</p>\n",
              "</div>"
            ],
            "text/plain": [
              "            1a. open (USD)  2a. high (USD)  ...  4a. close (USD)     5. volume\n",
              "date                                        ...                               \n",
              "2021-03-31        58746.57        58970.44  ...         58913.16   1011.482708\n",
              "2021-03-30        57635.46        59368.00  ...         58746.57  55122.443122\n",
              "2021-03-29        55777.65        58405.82  ...         57635.47  67857.937398\n",
              "2021-03-28        55817.14        56559.75  ...         55777.63  39050.387511\n",
              "2021-03-27        55025.59        56700.36  ...         55817.14  50105.475055\n",
              "...                    ...             ...  ...              ...           ...\n",
              "2018-07-10         6662.78         6681.00  ...          6296.91  38560.672702\n",
              "2018-07-09         6712.10         6802.06  ...          6662.12  26732.406550\n",
              "2018-07-08         6753.48         6780.00  ...          6712.10  24622.947794\n",
              "2018-07-07         6609.79         6818.16  ...          6756.98  23973.876886\n",
              "2018-07-06         6529.20         6648.54  ...          6609.78  29397.094748\n",
              "\n",
              "[1000 rows x 5 columns]"
            ]
          },
          "metadata": {
            "tags": []
          },
          "execution_count": 12
        }
      ]
    },
    {
      "cell_type": "code",
      "metadata": {
        "id": "HmCXD6JwRh2D"
      },
      "source": [
        "# changing name of columns \n",
        "\n",
        "btc_av.columns = ['Open', 'High', 'Low', 'Close', 'Volume']"
      ],
      "execution_count": null,
      "outputs": []
    },
    {
      "cell_type": "code",
      "metadata": {
        "colab": {
          "base_uri": "https://localhost:8080/",
          "height": 450
        },
        "id": "3gUaSJ4BRh2E",
        "outputId": "15b03edf-962b-491c-8beb-d58fd998b9ce"
      },
      "source": [
        "btc_av.index.names = ['Date']\n",
        "btc_av"
      ],
      "execution_count": null,
      "outputs": [
        {
          "output_type": "execute_result",
          "data": {
            "text/html": [
              "<div>\n",
              "<style scoped>\n",
              "    .dataframe tbody tr th:only-of-type {\n",
              "        vertical-align: middle;\n",
              "    }\n",
              "\n",
              "    .dataframe tbody tr th {\n",
              "        vertical-align: top;\n",
              "    }\n",
              "\n",
              "    .dataframe thead th {\n",
              "        text-align: right;\n",
              "    }\n",
              "</style>\n",
              "<table border=\"1\" class=\"dataframe\">\n",
              "  <thead>\n",
              "    <tr style=\"text-align: right;\">\n",
              "      <th></th>\n",
              "      <th>Open</th>\n",
              "      <th>High</th>\n",
              "      <th>Low</th>\n",
              "      <th>Close</th>\n",
              "      <th>Volume</th>\n",
              "    </tr>\n",
              "    <tr>\n",
              "      <th>Date</th>\n",
              "      <th></th>\n",
              "      <th></th>\n",
              "      <th></th>\n",
              "      <th></th>\n",
              "      <th></th>\n",
              "    </tr>\n",
              "  </thead>\n",
              "  <tbody>\n",
              "    <tr>\n",
              "      <th>2021-03-31</th>\n",
              "      <td>58746.57</td>\n",
              "      <td>58970.44</td>\n",
              "      <td>58631.65</td>\n",
              "      <td>58913.16</td>\n",
              "      <td>1011.482708</td>\n",
              "    </tr>\n",
              "    <tr>\n",
              "      <th>2021-03-30</th>\n",
              "      <td>57635.46</td>\n",
              "      <td>59368.00</td>\n",
              "      <td>57071.35</td>\n",
              "      <td>58746.57</td>\n",
              "      <td>55122.443122</td>\n",
              "    </tr>\n",
              "    <tr>\n",
              "      <th>2021-03-29</th>\n",
              "      <td>55777.65</td>\n",
              "      <td>58405.82</td>\n",
              "      <td>54800.01</td>\n",
              "      <td>57635.47</td>\n",
              "      <td>67857.937398</td>\n",
              "    </tr>\n",
              "    <tr>\n",
              "      <th>2021-03-28</th>\n",
              "      <td>55817.14</td>\n",
              "      <td>56559.75</td>\n",
              "      <td>54691.84</td>\n",
              "      <td>55777.63</td>\n",
              "      <td>39050.387511</td>\n",
              "    </tr>\n",
              "    <tr>\n",
              "      <th>2021-03-27</th>\n",
              "      <td>55025.59</td>\n",
              "      <td>56700.36</td>\n",
              "      <td>53950.00</td>\n",
              "      <td>55817.14</td>\n",
              "      <td>50105.475055</td>\n",
              "    </tr>\n",
              "    <tr>\n",
              "      <th>...</th>\n",
              "      <td>...</td>\n",
              "      <td>...</td>\n",
              "      <td>...</td>\n",
              "      <td>...</td>\n",
              "      <td>...</td>\n",
              "    </tr>\n",
              "    <tr>\n",
              "      <th>2018-07-10</th>\n",
              "      <td>6662.78</td>\n",
              "      <td>6681.00</td>\n",
              "      <td>6263.00</td>\n",
              "      <td>6296.91</td>\n",
              "      <td>38560.672702</td>\n",
              "    </tr>\n",
              "    <tr>\n",
              "      <th>2018-07-09</th>\n",
              "      <td>6712.10</td>\n",
              "      <td>6802.06</td>\n",
              "      <td>6612.24</td>\n",
              "      <td>6662.12</td>\n",
              "      <td>26732.406550</td>\n",
              "    </tr>\n",
              "    <tr>\n",
              "      <th>2018-07-08</th>\n",
              "      <td>6753.48</td>\n",
              "      <td>6780.00</td>\n",
              "      <td>6667.44</td>\n",
              "      <td>6712.10</td>\n",
              "      <td>24622.947794</td>\n",
              "    </tr>\n",
              "    <tr>\n",
              "      <th>2018-07-07</th>\n",
              "      <td>6609.79</td>\n",
              "      <td>6818.16</td>\n",
              "      <td>6508.88</td>\n",
              "      <td>6756.98</td>\n",
              "      <td>23973.876886</td>\n",
              "    </tr>\n",
              "    <tr>\n",
              "      <th>2018-07-06</th>\n",
              "      <td>6529.20</td>\n",
              "      <td>6648.54</td>\n",
              "      <td>6425.00</td>\n",
              "      <td>6609.78</td>\n",
              "      <td>29397.094748</td>\n",
              "    </tr>\n",
              "  </tbody>\n",
              "</table>\n",
              "<p>1000 rows × 5 columns</p>\n",
              "</div>"
            ],
            "text/plain": [
              "                Open      High       Low     Close        Volume\n",
              "Date                                                            \n",
              "2021-03-31  58746.57  58970.44  58631.65  58913.16   1011.482708\n",
              "2021-03-30  57635.46  59368.00  57071.35  58746.57  55122.443122\n",
              "2021-03-29  55777.65  58405.82  54800.01  57635.47  67857.937398\n",
              "2021-03-28  55817.14  56559.75  54691.84  55777.63  39050.387511\n",
              "2021-03-27  55025.59  56700.36  53950.00  55817.14  50105.475055\n",
              "...              ...       ...       ...       ...           ...\n",
              "2018-07-10   6662.78   6681.00   6263.00   6296.91  38560.672702\n",
              "2018-07-09   6712.10   6802.06   6612.24   6662.12  26732.406550\n",
              "2018-07-08   6753.48   6780.00   6667.44   6712.10  24622.947794\n",
              "2018-07-07   6609.79   6818.16   6508.88   6756.98  23973.876886\n",
              "2018-07-06   6529.20   6648.54   6425.00   6609.78  29397.094748\n",
              "\n",
              "[1000 rows x 5 columns]"
            ]
          },
          "metadata": {
            "tags": []
          },
          "execution_count": 14
        }
      ]
    },
    {
      "cell_type": "code",
      "metadata": {
        "colab": {
          "base_uri": "https://localhost:8080/"
        },
        "id": "8G3QXEdORh2E",
        "outputId": "88fe51d5-faf9-4c5e-c9cb-60fc35adc8bc"
      },
      "source": [
        "# Gathering data using yahoo finance api till the first date provided by alpha vantage\n",
        "btc_yf = yf.download('BTC-USD', end='2018-06-26')"
      ],
      "execution_count": null,
      "outputs": [
        {
          "output_type": "stream",
          "text": [
            "\r[*********************100%***********************]  1 of 1 completed\n"
          ],
          "name": "stdout"
        }
      ]
    },
    {
      "cell_type": "code",
      "metadata": {
        "colab": {
          "base_uri": "https://localhost:8080/",
          "height": 450
        },
        "id": "9pFjASV7Rh2F",
        "outputId": "db322649-a46c-4fc2-8d85-69afe6eb094e"
      },
      "source": [
        "btc_yf"
      ],
      "execution_count": null,
      "outputs": [
        {
          "output_type": "execute_result",
          "data": {
            "text/html": [
              "<div>\n",
              "<style scoped>\n",
              "    .dataframe tbody tr th:only-of-type {\n",
              "        vertical-align: middle;\n",
              "    }\n",
              "\n",
              "    .dataframe tbody tr th {\n",
              "        vertical-align: top;\n",
              "    }\n",
              "\n",
              "    .dataframe thead th {\n",
              "        text-align: right;\n",
              "    }\n",
              "</style>\n",
              "<table border=\"1\" class=\"dataframe\">\n",
              "  <thead>\n",
              "    <tr style=\"text-align: right;\">\n",
              "      <th></th>\n",
              "      <th>Open</th>\n",
              "      <th>High</th>\n",
              "      <th>Low</th>\n",
              "      <th>Close</th>\n",
              "      <th>Adj Close</th>\n",
              "      <th>Volume</th>\n",
              "    </tr>\n",
              "    <tr>\n",
              "      <th>Date</th>\n",
              "      <th></th>\n",
              "      <th></th>\n",
              "      <th></th>\n",
              "      <th></th>\n",
              "      <th></th>\n",
              "      <th></th>\n",
              "    </tr>\n",
              "  </thead>\n",
              "  <tbody>\n",
              "    <tr>\n",
              "      <th>2014-09-17</th>\n",
              "      <td>465.864014</td>\n",
              "      <td>468.174011</td>\n",
              "      <td>452.421997</td>\n",
              "      <td>457.334015</td>\n",
              "      <td>457.334015</td>\n",
              "      <td>21056800</td>\n",
              "    </tr>\n",
              "    <tr>\n",
              "      <th>2014-09-18</th>\n",
              "      <td>456.859985</td>\n",
              "      <td>456.859985</td>\n",
              "      <td>413.104004</td>\n",
              "      <td>424.440002</td>\n",
              "      <td>424.440002</td>\n",
              "      <td>34483200</td>\n",
              "    </tr>\n",
              "    <tr>\n",
              "      <th>2014-09-19</th>\n",
              "      <td>424.102997</td>\n",
              "      <td>427.834991</td>\n",
              "      <td>384.532013</td>\n",
              "      <td>394.795990</td>\n",
              "      <td>394.795990</td>\n",
              "      <td>37919700</td>\n",
              "    </tr>\n",
              "    <tr>\n",
              "      <th>2014-09-20</th>\n",
              "      <td>394.673004</td>\n",
              "      <td>423.295990</td>\n",
              "      <td>389.882996</td>\n",
              "      <td>408.903992</td>\n",
              "      <td>408.903992</td>\n",
              "      <td>36863600</td>\n",
              "    </tr>\n",
              "    <tr>\n",
              "      <th>2014-09-21</th>\n",
              "      <td>408.084991</td>\n",
              "      <td>412.425995</td>\n",
              "      <td>393.181000</td>\n",
              "      <td>398.821014</td>\n",
              "      <td>398.821014</td>\n",
              "      <td>26580100</td>\n",
              "    </tr>\n",
              "    <tr>\n",
              "      <th>...</th>\n",
              "      <td>...</td>\n",
              "      <td>...</td>\n",
              "      <td>...</td>\n",
              "      <td>...</td>\n",
              "      <td>...</td>\n",
              "      <td>...</td>\n",
              "    </tr>\n",
              "    <tr>\n",
              "      <th>2018-06-22</th>\n",
              "      <td>6737.879883</td>\n",
              "      <td>6747.080078</td>\n",
              "      <td>6006.600098</td>\n",
              "      <td>6083.689941</td>\n",
              "      <td>6083.689941</td>\n",
              "      <td>5079810048</td>\n",
              "    </tr>\n",
              "    <tr>\n",
              "      <th>2018-06-23</th>\n",
              "      <td>6090.100098</td>\n",
              "      <td>6224.819824</td>\n",
              "      <td>6071.810059</td>\n",
              "      <td>6162.479980</td>\n",
              "      <td>6162.479980</td>\n",
              "      <td>3431360000</td>\n",
              "    </tr>\n",
              "    <tr>\n",
              "      <th>2018-06-24</th>\n",
              "      <td>6164.279785</td>\n",
              "      <td>6223.779785</td>\n",
              "      <td>5826.410156</td>\n",
              "      <td>6173.229980</td>\n",
              "      <td>6173.229980</td>\n",
              "      <td>4566909952</td>\n",
              "    </tr>\n",
              "    <tr>\n",
              "      <th>2018-06-25</th>\n",
              "      <td>6171.970215</td>\n",
              "      <td>6327.370117</td>\n",
              "      <td>6119.680176</td>\n",
              "      <td>6249.180176</td>\n",
              "      <td>6249.180176</td>\n",
              "      <td>5500810240</td>\n",
              "    </tr>\n",
              "    <tr>\n",
              "      <th>2018-06-26</th>\n",
              "      <td>6253.549805</td>\n",
              "      <td>6290.160156</td>\n",
              "      <td>6093.669922</td>\n",
              "      <td>6093.669922</td>\n",
              "      <td>6093.669922</td>\n",
              "      <td>3279759872</td>\n",
              "    </tr>\n",
              "  </tbody>\n",
              "</table>\n",
              "<p>1379 rows × 6 columns</p>\n",
              "</div>"
            ],
            "text/plain": [
              "                   Open         High  ...    Adj Close      Volume\n",
              "Date                                  ...                         \n",
              "2014-09-17   465.864014   468.174011  ...   457.334015    21056800\n",
              "2014-09-18   456.859985   456.859985  ...   424.440002    34483200\n",
              "2014-09-19   424.102997   427.834991  ...   394.795990    37919700\n",
              "2014-09-20   394.673004   423.295990  ...   408.903992    36863600\n",
              "2014-09-21   408.084991   412.425995  ...   398.821014    26580100\n",
              "...                 ...          ...  ...          ...         ...\n",
              "2018-06-22  6737.879883  6747.080078  ...  6083.689941  5079810048\n",
              "2018-06-23  6090.100098  6224.819824  ...  6162.479980  3431360000\n",
              "2018-06-24  6164.279785  6223.779785  ...  6173.229980  4566909952\n",
              "2018-06-25  6171.970215  6327.370117  ...  6249.180176  5500810240\n",
              "2018-06-26  6253.549805  6290.160156  ...  6093.669922  3279759872\n",
              "\n",
              "[1379 rows x 6 columns]"
            ]
          },
          "metadata": {
            "tags": []
          },
          "execution_count": 16
        }
      ]
    },
    {
      "cell_type": "code",
      "metadata": {
        "id": "TceeOhyjRh2F"
      },
      "source": [
        "# Dropping 'Adj Close' \n",
        "\n",
        "btc_yf = btc_yf.drop(['Adj Close'], axis = 1)"
      ],
      "execution_count": null,
      "outputs": []
    },
    {
      "cell_type": "markdown",
      "metadata": {
        "id": "seczg_loRh2F"
      },
      "source": [
        "Combining the dataframes taken from alpha vantage and yahoo finance \n",
        "\n",
        "The first observation is the sequence of dates in both the dataframes is opposite of each other. The combination can be done as follows:\n",
        "- Change the sequence of dates in the alpha vantage dataframe\n",
        "- Append the columns to the yahoo finance data frame "
      ]
    },
    {
      "cell_type": "code",
      "metadata": {
        "id": "1uAiONGlRh2G"
      },
      "source": [
        "# Reversing the dataframe for alpha vantage \n",
        "\n",
        "btc_av = btc_av.iloc[::-1]"
      ],
      "execution_count": null,
      "outputs": []
    },
    {
      "cell_type": "code",
      "metadata": {
        "colab": {
          "base_uri": "https://localhost:8080/",
          "height": 450
        },
        "id": "c1WlzQvPRh2G",
        "outputId": "231bbcb7-2336-451b-d11e-cfa197241255"
      },
      "source": [
        "btc_av"
      ],
      "execution_count": null,
      "outputs": [
        {
          "output_type": "execute_result",
          "data": {
            "text/html": [
              "<div>\n",
              "<style scoped>\n",
              "    .dataframe tbody tr th:only-of-type {\n",
              "        vertical-align: middle;\n",
              "    }\n",
              "\n",
              "    .dataframe tbody tr th {\n",
              "        vertical-align: top;\n",
              "    }\n",
              "\n",
              "    .dataframe thead th {\n",
              "        text-align: right;\n",
              "    }\n",
              "</style>\n",
              "<table border=\"1\" class=\"dataframe\">\n",
              "  <thead>\n",
              "    <tr style=\"text-align: right;\">\n",
              "      <th></th>\n",
              "      <th>Open</th>\n",
              "      <th>High</th>\n",
              "      <th>Low</th>\n",
              "      <th>Close</th>\n",
              "      <th>Volume</th>\n",
              "    </tr>\n",
              "    <tr>\n",
              "      <th>Date</th>\n",
              "      <th></th>\n",
              "      <th></th>\n",
              "      <th></th>\n",
              "      <th></th>\n",
              "      <th></th>\n",
              "    </tr>\n",
              "  </thead>\n",
              "  <tbody>\n",
              "    <tr>\n",
              "      <th>2018-07-06</th>\n",
              "      <td>6529.20</td>\n",
              "      <td>6648.54</td>\n",
              "      <td>6425.00</td>\n",
              "      <td>6609.78</td>\n",
              "      <td>29397.094748</td>\n",
              "    </tr>\n",
              "    <tr>\n",
              "      <th>2018-07-07</th>\n",
              "      <td>6609.79</td>\n",
              "      <td>6818.16</td>\n",
              "      <td>6508.88</td>\n",
              "      <td>6756.98</td>\n",
              "      <td>23973.876886</td>\n",
              "    </tr>\n",
              "    <tr>\n",
              "      <th>2018-07-08</th>\n",
              "      <td>6753.48</td>\n",
              "      <td>6780.00</td>\n",
              "      <td>6667.44</td>\n",
              "      <td>6712.10</td>\n",
              "      <td>24622.947794</td>\n",
              "    </tr>\n",
              "    <tr>\n",
              "      <th>2018-07-09</th>\n",
              "      <td>6712.10</td>\n",
              "      <td>6802.06</td>\n",
              "      <td>6612.24</td>\n",
              "      <td>6662.12</td>\n",
              "      <td>26732.406550</td>\n",
              "    </tr>\n",
              "    <tr>\n",
              "      <th>2018-07-10</th>\n",
              "      <td>6662.78</td>\n",
              "      <td>6681.00</td>\n",
              "      <td>6263.00</td>\n",
              "      <td>6296.91</td>\n",
              "      <td>38560.672702</td>\n",
              "    </tr>\n",
              "    <tr>\n",
              "      <th>...</th>\n",
              "      <td>...</td>\n",
              "      <td>...</td>\n",
              "      <td>...</td>\n",
              "      <td>...</td>\n",
              "      <td>...</td>\n",
              "    </tr>\n",
              "    <tr>\n",
              "      <th>2021-03-27</th>\n",
              "      <td>55025.59</td>\n",
              "      <td>56700.36</td>\n",
              "      <td>53950.00</td>\n",
              "      <td>55817.14</td>\n",
              "      <td>50105.475055</td>\n",
              "    </tr>\n",
              "    <tr>\n",
              "      <th>2021-03-28</th>\n",
              "      <td>55817.14</td>\n",
              "      <td>56559.75</td>\n",
              "      <td>54691.84</td>\n",
              "      <td>55777.63</td>\n",
              "      <td>39050.387511</td>\n",
              "    </tr>\n",
              "    <tr>\n",
              "      <th>2021-03-29</th>\n",
              "      <td>55777.65</td>\n",
              "      <td>58405.82</td>\n",
              "      <td>54800.01</td>\n",
              "      <td>57635.47</td>\n",
              "      <td>67857.937398</td>\n",
              "    </tr>\n",
              "    <tr>\n",
              "      <th>2021-03-30</th>\n",
              "      <td>57635.46</td>\n",
              "      <td>59368.00</td>\n",
              "      <td>57071.35</td>\n",
              "      <td>58746.57</td>\n",
              "      <td>55122.443122</td>\n",
              "    </tr>\n",
              "    <tr>\n",
              "      <th>2021-03-31</th>\n",
              "      <td>58746.57</td>\n",
              "      <td>58970.44</td>\n",
              "      <td>58631.65</td>\n",
              "      <td>58913.16</td>\n",
              "      <td>1011.482708</td>\n",
              "    </tr>\n",
              "  </tbody>\n",
              "</table>\n",
              "<p>1000 rows × 5 columns</p>\n",
              "</div>"
            ],
            "text/plain": [
              "                Open      High       Low     Close        Volume\n",
              "Date                                                            \n",
              "2018-07-06   6529.20   6648.54   6425.00   6609.78  29397.094748\n",
              "2018-07-07   6609.79   6818.16   6508.88   6756.98  23973.876886\n",
              "2018-07-08   6753.48   6780.00   6667.44   6712.10  24622.947794\n",
              "2018-07-09   6712.10   6802.06   6612.24   6662.12  26732.406550\n",
              "2018-07-10   6662.78   6681.00   6263.00   6296.91  38560.672702\n",
              "...              ...       ...       ...       ...           ...\n",
              "2021-03-27  55025.59  56700.36  53950.00  55817.14  50105.475055\n",
              "2021-03-28  55817.14  56559.75  54691.84  55777.63  39050.387511\n",
              "2021-03-29  55777.65  58405.82  54800.01  57635.47  67857.937398\n",
              "2021-03-30  57635.46  59368.00  57071.35  58746.57  55122.443122\n",
              "2021-03-31  58746.57  58970.44  58631.65  58913.16   1011.482708\n",
              "\n",
              "[1000 rows x 5 columns]"
            ]
          },
          "metadata": {
            "tags": []
          },
          "execution_count": 19
        }
      ]
    },
    {
      "cell_type": "code",
      "metadata": {
        "id": "LIpck3jIRh2G"
      },
      "source": [
        "# Concatanating dataframes \n",
        "\n",
        "BTC = pd.concat([btc_yf, btc_av])"
      ],
      "execution_count": null,
      "outputs": []
    },
    {
      "cell_type": "code",
      "metadata": {
        "colab": {
          "base_uri": "https://localhost:8080/",
          "height": 450
        },
        "id": "sVXYlNGnRh2G",
        "outputId": "224d97eb-1e39-4a92-a709-3f9fed3a0b90"
      },
      "source": [
        "BTC"
      ],
      "execution_count": null,
      "outputs": [
        {
          "output_type": "execute_result",
          "data": {
            "text/html": [
              "<div>\n",
              "<style scoped>\n",
              "    .dataframe tbody tr th:only-of-type {\n",
              "        vertical-align: middle;\n",
              "    }\n",
              "\n",
              "    .dataframe tbody tr th {\n",
              "        vertical-align: top;\n",
              "    }\n",
              "\n",
              "    .dataframe thead th {\n",
              "        text-align: right;\n",
              "    }\n",
              "</style>\n",
              "<table border=\"1\" class=\"dataframe\">\n",
              "  <thead>\n",
              "    <tr style=\"text-align: right;\">\n",
              "      <th></th>\n",
              "      <th>Open</th>\n",
              "      <th>High</th>\n",
              "      <th>Low</th>\n",
              "      <th>Close</th>\n",
              "      <th>Volume</th>\n",
              "    </tr>\n",
              "    <tr>\n",
              "      <th>Date</th>\n",
              "      <th></th>\n",
              "      <th></th>\n",
              "      <th></th>\n",
              "      <th></th>\n",
              "      <th></th>\n",
              "    </tr>\n",
              "  </thead>\n",
              "  <tbody>\n",
              "    <tr>\n",
              "      <th>2014-09-17</th>\n",
              "      <td>465.864014</td>\n",
              "      <td>468.174011</td>\n",
              "      <td>452.421997</td>\n",
              "      <td>457.334015</td>\n",
              "      <td>2.105680e+07</td>\n",
              "    </tr>\n",
              "    <tr>\n",
              "      <th>2014-09-18</th>\n",
              "      <td>456.859985</td>\n",
              "      <td>456.859985</td>\n",
              "      <td>413.104004</td>\n",
              "      <td>424.440002</td>\n",
              "      <td>3.448320e+07</td>\n",
              "    </tr>\n",
              "    <tr>\n",
              "      <th>2014-09-19</th>\n",
              "      <td>424.102997</td>\n",
              "      <td>427.834991</td>\n",
              "      <td>384.532013</td>\n",
              "      <td>394.795990</td>\n",
              "      <td>3.791970e+07</td>\n",
              "    </tr>\n",
              "    <tr>\n",
              "      <th>2014-09-20</th>\n",
              "      <td>394.673004</td>\n",
              "      <td>423.295990</td>\n",
              "      <td>389.882996</td>\n",
              "      <td>408.903992</td>\n",
              "      <td>3.686360e+07</td>\n",
              "    </tr>\n",
              "    <tr>\n",
              "      <th>2014-09-21</th>\n",
              "      <td>408.084991</td>\n",
              "      <td>412.425995</td>\n",
              "      <td>393.181000</td>\n",
              "      <td>398.821014</td>\n",
              "      <td>2.658010e+07</td>\n",
              "    </tr>\n",
              "    <tr>\n",
              "      <th>...</th>\n",
              "      <td>...</td>\n",
              "      <td>...</td>\n",
              "      <td>...</td>\n",
              "      <td>...</td>\n",
              "      <td>...</td>\n",
              "    </tr>\n",
              "    <tr>\n",
              "      <th>2021-03-27</th>\n",
              "      <td>55025.590000</td>\n",
              "      <td>56700.360000</td>\n",
              "      <td>53950.000000</td>\n",
              "      <td>55817.140000</td>\n",
              "      <td>5.010548e+04</td>\n",
              "    </tr>\n",
              "    <tr>\n",
              "      <th>2021-03-28</th>\n",
              "      <td>55817.140000</td>\n",
              "      <td>56559.750000</td>\n",
              "      <td>54691.840000</td>\n",
              "      <td>55777.630000</td>\n",
              "      <td>3.905039e+04</td>\n",
              "    </tr>\n",
              "    <tr>\n",
              "      <th>2021-03-29</th>\n",
              "      <td>55777.650000</td>\n",
              "      <td>58405.820000</td>\n",
              "      <td>54800.010000</td>\n",
              "      <td>57635.470000</td>\n",
              "      <td>6.785794e+04</td>\n",
              "    </tr>\n",
              "    <tr>\n",
              "      <th>2021-03-30</th>\n",
              "      <td>57635.460000</td>\n",
              "      <td>59368.000000</td>\n",
              "      <td>57071.350000</td>\n",
              "      <td>58746.570000</td>\n",
              "      <td>5.512244e+04</td>\n",
              "    </tr>\n",
              "    <tr>\n",
              "      <th>2021-03-31</th>\n",
              "      <td>58746.570000</td>\n",
              "      <td>58970.440000</td>\n",
              "      <td>58631.650000</td>\n",
              "      <td>58913.160000</td>\n",
              "      <td>1.011483e+03</td>\n",
              "    </tr>\n",
              "  </tbody>\n",
              "</table>\n",
              "<p>2379 rows × 5 columns</p>\n",
              "</div>"
            ],
            "text/plain": [
              "                    Open          High  ...         Close        Volume\n",
              "Date                                    ...                            \n",
              "2014-09-17    465.864014    468.174011  ...    457.334015  2.105680e+07\n",
              "2014-09-18    456.859985    456.859985  ...    424.440002  3.448320e+07\n",
              "2014-09-19    424.102997    427.834991  ...    394.795990  3.791970e+07\n",
              "2014-09-20    394.673004    423.295990  ...    408.903992  3.686360e+07\n",
              "2014-09-21    408.084991    412.425995  ...    398.821014  2.658010e+07\n",
              "...                  ...           ...  ...           ...           ...\n",
              "2021-03-27  55025.590000  56700.360000  ...  55817.140000  5.010548e+04\n",
              "2021-03-28  55817.140000  56559.750000  ...  55777.630000  3.905039e+04\n",
              "2021-03-29  55777.650000  58405.820000  ...  57635.470000  6.785794e+04\n",
              "2021-03-30  57635.460000  59368.000000  ...  58746.570000  5.512244e+04\n",
              "2021-03-31  58746.570000  58970.440000  ...  58913.160000  1.011483e+03\n",
              "\n",
              "[2379 rows x 5 columns]"
            ]
          },
          "metadata": {
            "tags": []
          },
          "execution_count": 21
        }
      ]
    },
    {
      "cell_type": "markdown",
      "metadata": {
        "id": "A26AdMgaRh2H"
      },
      "source": [
        "The dataframe, BTC, now conatins data about bitcoin prices and volume from 17/9/14 till 22/03/21"
      ]
    },
    {
      "cell_type": "markdown",
      "metadata": {
        "id": "kOVNiCILRh2H"
      },
      "source": [
        "The data for all the other factors can now be collected using the yahoo finance api. This has to be done between the dates that were used for the BTC dataframe.  \n",
        "The data will be collected for: \n",
        "- S&P500 index ('GSPC') \n",
        "- Dow Jones Industrial Average ('DJI')\n",
        "- NASDAQ Composite ('IXIC')\n",
        "- NYSE COMPOSITE ('NYSE')\n",
        "- NYSE AMEX COMPOSITE INDEX ('XAX')\n",
        "- Cboe UK 100 ('BUK100P)\n",
        "- FTSE ('FTSE')\n",
        "- EURONEXT ('N100')\n",
        "- Nikkei ('N225')\n",
        "- S&P BSE SENSEX ('BSESN')\n",
        "- HANG SENG INDEX ('HSI')\n",
        "- S&P/ASX 200 ('AXJO') \n",
        "- SSE Composite Index ('000001.SS')\n",
        "- Shenzhen Component ('399001.SZ')\n",
        "- Jakarta Composite Index ('JKSE')"
      ]
    },
    {
      "cell_type": "code",
      "metadata": {
        "colab": {
          "base_uri": "https://localhost:8080/"
        },
        "id": "GvCwVniURh2I",
        "outputId": "21f6ffba-7d5f-41c7-db27-98e5ecc92e65"
      },
      "source": [
        "indices = yf.download(['^GSPC','^DJI','^IXIC','^NYA','^N225','^BSESN','^AXJO','^NSEI','^GSPTSE','^KS11'], \n",
        "                      start='2014-09-17', end='2021-03-22')"
      ],
      "execution_count": null,
      "outputs": [
        {
          "output_type": "stream",
          "text": [
            "[*********************100%***********************]  10 of 10 completed\n"
          ],
          "name": "stdout"
        }
      ]
    },
    {
      "cell_type": "code",
      "metadata": {
        "id": "hNkt_byaRh2I"
      },
      "source": [
        "indices = indices['Close']"
      ],
      "execution_count": null,
      "outputs": []
    },
    {
      "cell_type": "code",
      "metadata": {
        "id": "lCh-gpi3Rh2I"
      },
      "source": [
        "combined = pd.concat([BTC['Close'],indices], join='inner', axis=1)"
      ],
      "execution_count": null,
      "outputs": []
    },
    {
      "cell_type": "code",
      "metadata": {
        "id": "kqc75vn6Rh2I"
      },
      "source": [
        "combined.columns = ['Bitcoin','^AXJO','^BSESN','^DJI','^GSPC','^GSPTSE','^IXIC','^KS11','^N225','^NSEI','^NYA']"
      ],
      "execution_count": null,
      "outputs": []
    },
    {
      "cell_type": "code",
      "metadata": {
        "colab": {
          "base_uri": "https://localhost:8080/",
          "height": 450
        },
        "id": "LtKW4LxXRh2J",
        "outputId": "a8a72bef-6de6-4428-d6cc-5624ececb346"
      },
      "source": [
        "combined "
      ],
      "execution_count": null,
      "outputs": [
        {
          "output_type": "execute_result",
          "data": {
            "text/html": [
              "<div>\n",
              "<style scoped>\n",
              "    .dataframe tbody tr th:only-of-type {\n",
              "        vertical-align: middle;\n",
              "    }\n",
              "\n",
              "    .dataframe tbody tr th {\n",
              "        vertical-align: top;\n",
              "    }\n",
              "\n",
              "    .dataframe thead th {\n",
              "        text-align: right;\n",
              "    }\n",
              "</style>\n",
              "<table border=\"1\" class=\"dataframe\">\n",
              "  <thead>\n",
              "    <tr style=\"text-align: right;\">\n",
              "      <th></th>\n",
              "      <th>Bitcoin</th>\n",
              "      <th>^AXJO</th>\n",
              "      <th>^BSESN</th>\n",
              "      <th>^DJI</th>\n",
              "      <th>^GSPC</th>\n",
              "      <th>^GSPTSE</th>\n",
              "      <th>^IXIC</th>\n",
              "      <th>^KS11</th>\n",
              "      <th>^N225</th>\n",
              "      <th>^NSEI</th>\n",
              "      <th>^NYA</th>\n",
              "    </tr>\n",
              "    <tr>\n",
              "      <th>Date</th>\n",
              "      <th></th>\n",
              "      <th></th>\n",
              "      <th></th>\n",
              "      <th></th>\n",
              "      <th></th>\n",
              "      <th></th>\n",
              "      <th></th>\n",
              "      <th></th>\n",
              "      <th></th>\n",
              "      <th></th>\n",
              "      <th></th>\n",
              "    </tr>\n",
              "  </thead>\n",
              "  <tbody>\n",
              "    <tr>\n",
              "      <th>2014-09-17</th>\n",
              "      <td>457.334015</td>\n",
              "      <td>5407.299805</td>\n",
              "      <td>26631.289062</td>\n",
              "      <td>17156.849609</td>\n",
              "      <td>2001.569946</td>\n",
              "      <td>15458.900391</td>\n",
              "      <td>4562.189941</td>\n",
              "      <td>2062.610107</td>\n",
              "      <td>15888.669922</td>\n",
              "      <td>7975.500000</td>\n",
              "      <td>10973.740234</td>\n",
              "    </tr>\n",
              "    <tr>\n",
              "      <th>2014-09-18</th>\n",
              "      <td>424.440002</td>\n",
              "      <td>5415.799805</td>\n",
              "      <td>27112.210938</td>\n",
              "      <td>17265.990234</td>\n",
              "      <td>2011.359985</td>\n",
              "      <td>15465.500000</td>\n",
              "      <td>4593.430176</td>\n",
              "      <td>2047.739990</td>\n",
              "      <td>16067.570312</td>\n",
              "      <td>8114.750000</td>\n",
              "      <td>11024.059570</td>\n",
              "    </tr>\n",
              "    <tr>\n",
              "      <th>2014-09-19</th>\n",
              "      <td>394.795990</td>\n",
              "      <td>5433.100098</td>\n",
              "      <td>27090.419922</td>\n",
              "      <td>17279.740234</td>\n",
              "      <td>2010.400024</td>\n",
              "      <td>15265.400391</td>\n",
              "      <td>4579.790039</td>\n",
              "      <td>2053.820068</td>\n",
              "      <td>16321.169922</td>\n",
              "      <td>8121.450195</td>\n",
              "      <td>10989.570312</td>\n",
              "    </tr>\n",
              "    <tr>\n",
              "      <th>2014-09-22</th>\n",
              "      <td>402.152008</td>\n",
              "      <td>5363.000000</td>\n",
              "      <td>27206.740234</td>\n",
              "      <td>17172.679688</td>\n",
              "      <td>1994.290039</td>\n",
              "      <td>15129.000000</td>\n",
              "      <td>4527.689941</td>\n",
              "      <td>2039.270020</td>\n",
              "      <td>16205.900391</td>\n",
              "      <td>8146.299805</td>\n",
              "      <td>10892.639648</td>\n",
              "    </tr>\n",
              "    <tr>\n",
              "      <th>2014-09-23</th>\n",
              "      <td>435.790985</td>\n",
              "      <td>5415.700195</td>\n",
              "      <td>26775.689453</td>\n",
              "      <td>17055.869141</td>\n",
              "      <td>1982.770020</td>\n",
              "      <td>15125.700195</td>\n",
              "      <td>4508.689941</td>\n",
              "      <td>2028.910034</td>\n",
              "      <td>NaN</td>\n",
              "      <td>8017.549805</td>\n",
              "      <td>10815.419922</td>\n",
              "    </tr>\n",
              "    <tr>\n",
              "      <th>...</th>\n",
              "      <td>...</td>\n",
              "      <td>...</td>\n",
              "      <td>...</td>\n",
              "      <td>...</td>\n",
              "      <td>...</td>\n",
              "      <td>...</td>\n",
              "      <td>...</td>\n",
              "      <td>...</td>\n",
              "      <td>...</td>\n",
              "      <td>...</td>\n",
              "      <td>...</td>\n",
              "    </tr>\n",
              "    <tr>\n",
              "      <th>2021-03-16</th>\n",
              "      <td>56900.750000</td>\n",
              "      <td>6827.100098</td>\n",
              "      <td>50363.960938</td>\n",
              "      <td>32825.949219</td>\n",
              "      <td>3962.709961</td>\n",
              "      <td>18874.000000</td>\n",
              "      <td>13471.570312</td>\n",
              "      <td>3067.169922</td>\n",
              "      <td>29921.089844</td>\n",
              "      <td>14910.450195</td>\n",
              "      <td>15669.299805</td>\n",
              "    </tr>\n",
              "    <tr>\n",
              "      <th>2021-03-17</th>\n",
              "      <td>58912.970000</td>\n",
              "      <td>6795.200195</td>\n",
              "      <td>49801.621094</td>\n",
              "      <td>33015.371094</td>\n",
              "      <td>3974.120117</td>\n",
              "      <td>18983.099609</td>\n",
              "      <td>13525.200195</td>\n",
              "      <td>3047.500000</td>\n",
              "      <td>29914.330078</td>\n",
              "      <td>14721.299805</td>\n",
              "      <td>15731.150391</td>\n",
              "    </tr>\n",
              "    <tr>\n",
              "      <th>2021-03-18</th>\n",
              "      <td>57648.160000</td>\n",
              "      <td>6745.899902</td>\n",
              "      <td>49216.519531</td>\n",
              "      <td>32862.300781</td>\n",
              "      <td>3915.459961</td>\n",
              "      <td>18836.500000</td>\n",
              "      <td>13116.169922</td>\n",
              "      <td>3066.010010</td>\n",
              "      <td>30216.750000</td>\n",
              "      <td>14557.849609</td>\n",
              "      <td>15589.089844</td>\n",
              "    </tr>\n",
              "    <tr>\n",
              "      <th>2021-03-19</th>\n",
              "      <td>58030.010000</td>\n",
              "      <td>6708.200195</td>\n",
              "      <td>49858.238281</td>\n",
              "      <td>32627.970703</td>\n",
              "      <td>3913.100098</td>\n",
              "      <td>18854.000000</td>\n",
              "      <td>13215.240234</td>\n",
              "      <td>3039.530029</td>\n",
              "      <td>29792.050781</td>\n",
              "      <td>14744.000000</td>\n",
              "      <td>15562.299805</td>\n",
              "    </tr>\n",
              "    <tr>\n",
              "      <th>2021-03-22</th>\n",
              "      <td>54083.250000</td>\n",
              "      <td>6752.500000</td>\n",
              "      <td>NaN</td>\n",
              "      <td>NaN</td>\n",
              "      <td>NaN</td>\n",
              "      <td>NaN</td>\n",
              "      <td>NaN</td>\n",
              "      <td>3035.459961</td>\n",
              "      <td>29174.150391</td>\n",
              "      <td>NaN</td>\n",
              "      <td>NaN</td>\n",
              "    </tr>\n",
              "  </tbody>\n",
              "</table>\n",
              "<p>1688 rows × 11 columns</p>\n",
              "</div>"
            ],
            "text/plain": [
              "                 Bitcoin        ^AXJO  ...         ^NSEI          ^NYA\n",
              "Date                                   ...                            \n",
              "2014-09-17    457.334015  5407.299805  ...   7975.500000  10973.740234\n",
              "2014-09-18    424.440002  5415.799805  ...   8114.750000  11024.059570\n",
              "2014-09-19    394.795990  5433.100098  ...   8121.450195  10989.570312\n",
              "2014-09-22    402.152008  5363.000000  ...   8146.299805  10892.639648\n",
              "2014-09-23    435.790985  5415.700195  ...   8017.549805  10815.419922\n",
              "...                  ...          ...  ...           ...           ...\n",
              "2021-03-16  56900.750000  6827.100098  ...  14910.450195  15669.299805\n",
              "2021-03-17  58912.970000  6795.200195  ...  14721.299805  15731.150391\n",
              "2021-03-18  57648.160000  6745.899902  ...  14557.849609  15589.089844\n",
              "2021-03-19  58030.010000  6708.200195  ...  14744.000000  15562.299805\n",
              "2021-03-22  54083.250000  6752.500000  ...           NaN           NaN\n",
              "\n",
              "[1688 rows x 11 columns]"
            ]
          },
          "metadata": {
            "tags": []
          },
          "execution_count": 26
        }
      ]
    },
    {
      "cell_type": "code",
      "metadata": {
        "colab": {
          "base_uri": "https://localhost:8080/",
          "height": 649
        },
        "id": "jmp1uee0Rh2J",
        "outputId": "0f8ea145-f870-4892-c8f6-db237efb4429"
      },
      "source": [
        "plt.figure(figsize = (10,10))\n",
        "sb.heatmap(combined.corr(), annot=True)"
      ],
      "execution_count": null,
      "outputs": [
        {
          "output_type": "execute_result",
          "data": {
            "text/plain": [
              "<matplotlib.axes._subplots.AxesSubplot at 0x7f9883bc0310>"
            ]
          },
          "metadata": {
            "tags": []
          },
          "execution_count": 27
        },
        {
          "output_type": "display_data",
          "data": {
            "image/png": "[encoded data removed]",
            "text/plain": [
              "<Figure size 720x720 with 2 Axes>"
            ]
          },
          "metadata": {
            "tags": [],
            "needs_background": "light"
          }
        }
      ]
    },
    {
      "cell_type": "code",
      "metadata": {
        "id": "kKmDqqcyRh2J"
      },
      "source": [
        "import math\n",
        "from sklearn.preprocessing import MinMaxScaler\n",
        "from keras.models import Sequential\n",
        "from keras.layers import Dense, LSTM"
      ],
      "execution_count": null,
      "outputs": []
    },
    {
      "cell_type": "code",
      "metadata": {
        "colab": {
          "base_uri": "https://localhost:8080/",
          "height": 497
        },
        "id": "3FBHvp5ARh2J",
        "outputId": "fd5d9223-f76d-4bb4-f561-b1d7c5bdc8d8"
      },
      "source": [
        "plt.figure(figsize = (16,8))\n",
        "plt.plot(combined['Bitcoin'])\n",
        "plt.xlabel('Date')\n",
        "plt.ylabel('Close USD')\n",
        "plt.show()"
      ],
      "execution_count": null,
      "outputs": [
        {
          "output_type": "display_data",
          "data": {
            "image/png": "[encoded data removed]",
            "text/plain": [
              "<Figure size 1152x576 with 1 Axes>"
            ]
          },
          "metadata": {
            "tags": [],
            "needs_background": "light"
          }
        }
      ]
    },
    {
      "cell_type": "code",
      "metadata": {
        "colab": {
          "base_uri": "https://localhost:8080/"
        },
        "id": "mvWGDE4sRh2K",
        "outputId": "180fbd73-2ecd-437b-bedb-32a17549bba9"
      },
      "source": [
        "training_data_len = math.ceil( len(combined['Bitcoin']) * 0.8) # 80% of the data will be used to train the model\n",
        "training_data_len"
      ],
      "execution_count": null,
      "outputs": [
        {
          "output_type": "execute_result",
          "data": {
            "text/plain": [
              "1351"
            ]
          },
          "metadata": {
            "tags": []
          },
          "execution_count": 70
        }
      ]
    },
    {
      "cell_type": "code",
      "metadata": {
        "id": "nrT694ljTcdj"
      },
      "source": [
        "# Scale the data for bitcoin\n",
        "\n",
        "scaler = MinMaxScaler(feature_range=(0,1))\n",
        "Bitcoin = np.array(combined[['Bitcoin']])\n",
        "scaled_data = scaler.fit_transform(Bitcoin)"
      ],
      "execution_count": null,
      "outputs": []
    },
    {
      "cell_type": "code",
      "metadata": {
        "colab": {
          "base_uri": "https://localhost:8080/"
        },
        "id": "hG9gN7TmTxU2",
        "outputId": "3e14c04a-2a43-442f-d83c-283fa3204431"
      },
      "source": [
        "scaled_data"
      ],
      "execution_count": null,
      "outputs": [
        {
          "output_type": "execute_result",
          "data": {
            "text/plain": [
              "array([[0.00475409],\n",
              "       [0.00419405],\n",
              "       [0.00368934],\n",
              "       ...,\n",
              "       [0.97846577],\n",
              "       [0.98496702],\n",
              "       [0.91777082]])"
            ]
          },
          "metadata": {
            "tags": []
          },
          "execution_count": 72
        }
      ]
    },
    {
      "cell_type": "code",
      "metadata": {
        "id": "Hqj37m5TT90w"
      },
      "source": [
        "# creating the training dataset\n",
        "\n",
        "training_data = scaled_data[:training_data_len, :]\n",
        "\n",
        "#Split the data into x_train and y_train\n",
        "\n",
        "x_train = []\n",
        "y_train = []\n",
        "\n",
        "for i in range(30, len(training_data)):\n",
        "  x_train.append(training_data[i-30:i,0])\n",
        "  y_train.append(training_data[i, 0])"
      ],
      "execution_count": null,
      "outputs": []
    },
    {
      "cell_type": "code",
      "metadata": {
        "id": "TLubLpsfU0L7"
      },
      "source": [
        "# Convert x_train and y_train into numpy arrays\n",
        "\n",
        "x_train, y_train = np.array(x_train), np.array(y_train)"
      ],
      "execution_count": null,
      "outputs": []
    },
    {
      "cell_type": "code",
      "metadata": {
        "colab": {
          "base_uri": "https://localhost:8080/"
        },
        "id": "0a3hr65uXkYC",
        "outputId": "5f421b09-832e-4a0d-ad7a-739606264d8d"
      },
      "source": [
        "#Reshape the data \n",
        "x_train = np.reshape(x_train, (x_train.shape[0], x_train.shape[1], 1))\n",
        "x_train.shape"
      ],
      "execution_count": null,
      "outputs": [
        {
          "output_type": "execute_result",
          "data": {
            "text/plain": [
              "(1321, 30, 1)"
            ]
          },
          "metadata": {
            "tags": []
          },
          "execution_count": 75
        }
      ]
    },
    {
      "cell_type": "code",
      "metadata": {
        "id": "-NCTbI6ZX7Nx"
      },
      "source": [
        "#Build the LSTM model\n",
        "\n",
        "model = Sequential()\n",
        "model.add(LSTM(50, return_sequences=True, input_shape = (x_train.shape[1], 1)))\n",
        "model.add(LSTM(50, return_sequences=False))\n",
        "model.add(Dense(25))\n",
        "model.add(Dense(1))"
      ],
      "execution_count": null,
      "outputs": []
    },
    {
      "cell_type": "code",
      "metadata": {
        "id": "_fT4rGMGZGOn"
      },
      "source": [
        "# Compile the model\n",
        "\n",
        "model.compile(optimizer='adam', loss='mean_squared_error')"
      ],
      "execution_count": null,
      "outputs": []
    },
    {
      "cell_type": "code",
      "metadata": {
        "colab": {
          "base_uri": "https://localhost:8080/"
        },
        "id": "KULotmPEZVw-",
        "outputId": "4c8e9b15-92f3-44dd-eeb9-07bc296ba832"
      },
      "source": [
        "# Train the model\n",
        "\n",
        "model.fit(x_train, y_train, batch_size=1, epochs=5)"
      ],
      "execution_count": null,
      "outputs": [
        {
          "output_type": "stream",
          "text": [
            "Epoch 1/5\n",
            "1321/1321 [==============================] - 22s 14ms/step - loss: 7.0320e-04\n",
            "Epoch 2/5\n",
            "1321/1321 [==============================] - 20s 15ms/step - loss: 2.1516e-04\n",
            "Epoch 3/5\n",
            "1321/1321 [==============================] - 19s 15ms/step - loss: 8.8304e-05\n",
            "Epoch 4/5\n",
            "1321/1321 [==============================] - 19s 15ms/step - loss: 1.0177e-04\n",
            "Epoch 5/5\n",
            "1321/1321 [==============================] - 21s 16ms/step - loss: 8.4882e-05\n"
          ],
          "name": "stdout"
        },
        {
          "output_type": "execute_result",
          "data": {
            "text/plain": [
              "<tensorflow.python.keras.callbacks.History at 0x7f98381c76d0>"
            ]
          },
          "metadata": {
            "tags": []
          },
          "execution_count": 78
        }
      ]
    },
    {
      "cell_type": "code",
      "metadata": {
        "id": "7XwF6yfVZmwo"
      },
      "source": [
        "#Create the testing dataset \n",
        "\n",
        "test_data = scaled_data[training_data_len - 30:, :]\n",
        "\n",
        "#Create testing datasets: x_test, y_test\n",
        "\n",
        "x_test = []\n",
        "y_test = Bitcoin[training_data_len:,:]\n",
        "\n",
        "for i in range(30, len(test_data)):\n",
        "  x_test.append(test_data[i-30:i,0])\n"
      ],
      "execution_count": null,
      "outputs": []
    },
    {
      "cell_type": "code",
      "metadata": {
        "id": "LnItUnykarE6"
      },
      "source": [
        "#Convert data to numpy array \n",
        "x_test = np.array(x_test)"
      ],
      "execution_count": null,
      "outputs": []
    },
    {
      "cell_type": "code",
      "metadata": {
        "id": "ixT_LZXFa0mQ"
      },
      "source": [
        "#Reshape the data \n",
        "x_test = np.reshape(x_test, (x_test.shape[0], x_test.shape[1], 1)) #Change 1 with the number of variables "
      ],
      "execution_count": null,
      "outputs": []
    },
    {
      "cell_type": "code",
      "metadata": {
        "id": "5owPaSwNbITe"
      },
      "source": [
        "#Get the models predicted price value\n",
        "predictions = model.predict(x_test)\n",
        "predictions = scaler.inverse_transform(predictions) #Unscaling values to obtain actual values instead of values between [0,1]"
      ],
      "execution_count": null,
      "outputs": []
    },
    {
      "cell_type": "code",
      "metadata": {
        "id": "G4SU1N8cbora"
      },
      "source": [
        "#Getting root mean squared error (RMSE)\n",
        "\n",
        "rmse = np.sqrt( np.mean(predictions - y_test)**2)"
      ],
      "execution_count": null,
      "outputs": []
    },
    {
      "cell_type": "code",
      "metadata": {
        "colab": {
          "base_uri": "https://localhost:8080/"
        },
        "id": "UD5UJCt-b4uc",
        "outputId": "8fd0b5d7-8e7d-4fb1-e9b3-9c6fd5e1404b"
      },
      "source": [
        "rmse"
      ],
      "execution_count": null,
      "outputs": [
        {
          "output_type": "execute_result",
          "data": {
            "text/plain": [
              "32.44626072190286"
            ]
          },
          "metadata": {
            "tags": []
          },
          "execution_count": 84
        }
      ]
    },
    {
      "cell_type": "code",
      "metadata": {
        "colab": {
          "base_uri": "https://localhost:8080/",
          "height": 804
        },
        "id": "s8-1WW5-b5Yy",
        "outputId": "42b3e630-690f-41d2-f2ed-cfda4e2e3155"
      },
      "source": [
        "data = combined.filter(['Bitcoin'])\n",
        "# Plot the data \n",
        "train = data[:training_data_len]\n",
        "valid = data[training_data_len:]\n",
        "valid['Predictions'] = predictions\n",
        "#visualize\n",
        "plt.figure(figsize = (24,12))\n",
        "plt.title('Predictions vs Actual')\n",
        "plt.xlabel('Date')\n",
        "plt.ylabel('USD')\n",
        "plt.plot(train['Bitcoin'])\n",
        "plt.plot(valid[['Bitcoin','Predictions']])\n",
        "plt.legend(['Train','Val', 'Predictions'], loc = 'lower right')"
      ],
      "execution_count": null,
      "outputs": [
        {
          "output_type": "stream",
          "text": [
            "/usr/local/lib/python3.7/dist-packages/ipykernel_launcher.py:5: SettingWithCopyWarning: \n",
            "A value is trying to be set on a copy of a slice from a DataFrame.\n",
            "Try using .loc[row_indexer,col_indexer] = value instead\n",
            "\n",
            "See the caveats in the documentation: https://pandas.pydata.org/pandas-docs/stable/user_guide/indexing.html#returning-a-view-versus-a-copy\n",
            "  \"\"\"\n"
          ],
          "name": "stderr"
        },
        {
          "output_type": "execute_result",
          "data": {
            "text/plain": [
              "<matplotlib.legend.Legend at 0x7f9835dbaf90>"
            ]
          },
          "metadata": {
            "tags": []
          },
          "execution_count": 112
        },
        {
          "output_type": "display_data",
          "data": {
            "image/png": "[encoded data removed]",
            "text/plain": [
              "<Figure size 1728x864 with 1 Axes>"
            ]
          },
          "metadata": {
            "tags": [],
            "needs_background": "light"
          }
        }
      ]
    },
    {
      "cell_type": "code",
      "metadata": {
        "colab": {
          "base_uri": "https://localhost:8080/",
          "height": 804
        },
        "id": "vMeewkIKgcWb",
        "outputId": "756fce60-5034-4f62-bed6-797340296814"
      },
      "source": [
        "data = combined.filter(['Bitcoin'])\n",
        "# Plot the data \n",
        "train = data[training_data_len - 5:training_data_len]\n",
        "valid = data[training_data_len:]\n",
        "valid['Predictions'] = predictions\n",
        "#visualize\n",
        "plt.figure(figsize = (24,12))\n",
        "plt.title('Predictions vs Actual')\n",
        "plt.xlabel('Date')\n",
        "plt.ylabel('USD')\n",
        "plt.plot(train['Bitcoin'])\n",
        "plt.plot(valid[['Bitcoin','Predictions']])\n",
        "plt.legend(['Train','Val', 'Predictions'], loc = 'lower right')"
      ],
      "execution_count": null,
      "outputs": [
        {
          "output_type": "stream",
          "text": [
            "/usr/local/lib/python3.7/dist-packages/ipykernel_launcher.py:5: SettingWithCopyWarning: \n",
            "A value is trying to be set on a copy of a slice from a DataFrame.\n",
            "Try using .loc[row_indexer,col_indexer] = value instead\n",
            "\n",
            "See the caveats in the documentation: https://pandas.pydata.org/pandas-docs/stable/user_guide/indexing.html#returning-a-view-versus-a-copy\n",
            "  \"\"\"\n"
          ],
          "name": "stderr"
        },
        {
          "output_type": "execute_result",
          "data": {
            "text/plain": [
              "<matplotlib.legend.Legend at 0x7f9835d3c750>"
            ]
          },
          "metadata": {
            "tags": []
          },
          "execution_count": 113
        },
        {
          "output_type": "display_data",
          "data": {
            "image/png": "[encoded data removed]",
            "text/plain": [
              "<Figure size 1728x864 with 1 Axes>"
            ]
          },
          "metadata": {
            "tags": [],
            "needs_background": "light"
          }
        }
      ]
    },
    {
      "cell_type": "code",
      "metadata": {
        "id": "T9b8qXjphfV9"
      },
      "source": [
        ""
      ],
      "execution_count": null,
      "outputs": []
    }
  ]
}